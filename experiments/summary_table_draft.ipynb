{
 "cells": [
  {
   "cell_type": "code",
   "execution_count": null,
   "id": "8ffbaeb0-0d62-46d6-be36-99f2e5af736c",
   "metadata": {},
   "outputs": [],
   "source": [
    "import pandas as pd\n",
    "import json"
   ]
  },
  {
   "cell_type": "code",
   "execution_count": null,
   "id": "6fe41a10-a3e2-47a3-908c-c29112a36573",
   "metadata": {},
   "outputs": [],
   "source": [
    "with open(\"results/minimal_bloat__bf0432-007/metrics.json\", \"r\") as file:\n",
    "    metrics = json.load(file)"
   ]
  },
  {
   "cell_type": "code",
   "execution_count": null,
   "id": "a96aca63-e405-4953-871e-f47398f77247",
   "metadata": {},
   "outputs": [],
   "source": [
    "metrics[\"counters\"]"
   ]
  },
  {
   "cell_type": "code",
   "execution_count": null,
   "id": "c581cf31-fcfb-47aa-ae4a-5e7540336a49",
   "metadata": {},
   "outputs": [],
   "source": [
    "include_keys = [\n",
    "    \"Total\",\n",
    "    \"SubsetDecomposition\",\n",
    "    \"Resolution\",\n",
    "    \"Unification\",\n",
    "    \"SubsumedRemoval1\",\n",
    "    \"SubsumedRemoval2\",\n",
    "    \"TautologiesRemoval\",\n",
    "]\n",
    "\n",
    "filtered_durations = [metrics[\"durations\"][\"EliminateVar_\" + key] for key in include_keys]\n",
    "elimination = pd.DataFrame(filtered_durations).transpose()\n",
    "elimination.columns = include_keys"
   ]
  },
  {
   "cell_type": "code",
   "execution_count": null,
   "id": "ef25dd5c-6e2b-456e-89cc-7cc1f4d4e7c3",
   "metadata": {},
   "outputs": [],
   "source": [
    "elimination[\"MeasurementOverhead\"] = elimination[\"Total\"] - elimination[include_keys[1:]].sum(axis=1)"
   ]
  },
  {
   "cell_type": "code",
   "execution_count": null,
   "id": "9a3321d2-5b88-4d49-a86a-a6d2613b3ea8",
   "metadata": {},
   "outputs": [],
   "source": [
    "total = elimination[\"Total\"].copy()\n",
    "total_sum = total.sum()\n",
    "ratio = 100_000\n",
    "\n",
    "def part_of_total(df_col):\n",
    "    return (df_col.sum() / total_sum) * ratio\n",
    "\n",
    "def rel_std(df_col):\n",
    "    return (df_col.std() / df_col.mean()) * 100\n",
    "\n",
    "aggregation_functions = [\"count\", \"sum\", part_of_total, \"mean\", \"median\", \"std\", rel_std, \"max\", \"argmax\"]\n",
    "\n",
    "elimination_summary = elimination.agg(aggregation_functions).astype(int, copy=False)"
   ]
  },
  {
   "cell_type": "code",
   "execution_count": null,
   "id": "3d36cc9c-34ba-4530-95e7-d154f4250188",
   "metadata": {},
   "outputs": [],
   "source": [
    "elimination_summary.drop(\"count\")"
   ]
  },
  {
   "cell_type": "code",
   "execution_count": null,
   "id": "75e119d2-295c-429e-a2c4-f454215823a1",
   "metadata": {},
   "outputs": [],
   "source": [
    "variable = pd.DataFrame(metrics[\"durations\"][\"VarSelection\"])\n",
    "variable.columns = [\"VarSelection\"]\n",
    "variable_summary = variable.agg(aggregation_functions).astype(int, copy=False)"
   ]
  },
  {
   "cell_type": "code",
   "execution_count": null,
   "id": "3086da31-5c4f-46ee-8bd2-0af1f1e982e7",
   "metadata": {},
   "outputs": [],
   "source": [
    "absorbed = pd.DataFrame([metrics[\"durations\"][\"RemoveAbsorbedClausesWithConversion\"], metrics[\"series\"][\"AbsorbedClausesRemoved\"]]).transpose()\n",
    "absorbed.columns = [\"AbsorbedRemovalDuration\", \"AbsorbedClausesRemoved\"]\n",
    "absorbed_summary = absorbed.agg(aggregation_functions).astype(int, copy=False)"
   ]
  },
  {
   "cell_type": "code",
   "execution_count": null,
   "id": "7bf6a0a5-5652-4e18-93ca-96a183a10653",
   "metadata": {},
   "outputs": [],
   "source": [
    "stages_summary = pd.concat([elimination_summary[\"Total\"], variable_summary, absorbed_summary], axis=1) \\\n",
    "                    .rename(columns={\"Total\": \"Elimination\"}, index={\"part_of_total\": \"ratio\"})\n",
    "stages_summary.loc[\"ratio\"] //= 100"
   ]
  },
  {
   "cell_type": "code",
   "execution_count": null,
   "id": "127e2be9-7420-40eb-9093-1ec7c396e40d",
   "metadata": {},
   "outputs": [],
   "source": [
    "stages_summary"
   ]
  },
  {
   "cell_type": "code",
   "execution_count": null,
   "id": "e7467c06-e034-4903-8615-66d2a044a498",
   "metadata": {},
   "outputs": [],
   "source": [
    "heuristic_data = [\n",
    "    metrics[\"series\"][\"HeuristicScores\"],\n",
    "    metrics[\"series\"][\"EliminatedClauses\"],\n",
    "]\n",
    "heuristic = pd.DataFrame(heuristic_data).transpose()\n",
    "heuristic_correlation = heuristic[0].corr(heuristic[1])"
   ]
  },
  {
   "cell_type": "code",
   "execution_count": null,
   "id": "af24343e-2e04-49fa-8653-d1ce769e9cb2",
   "metadata": {},
   "outputs": [],
   "source": [
    "duration_ratio = 1000\n",
    "summary_data = {\n",
    "    \"TotalVars\": metrics[\"counters\"][\"TotalVars\"],\n",
    "    \"EliminatedVars\": metrics[\"counters\"][\"EliminatedVars\"],\n",
    "    \"TotalClauses\": metrics[\"counters\"][\"TotalClauses\"],\n",
    "    \"RemovedClauses\": metrics[\"counters\"][\"RemovedClauses\"],\n",
    "    \"RemovedAbsorbedClauses\": metrics[\"counters\"][\"AbsorbedClausesRemovedTotal\"],\n",
    "    \"HeuristicCorrelation\": heuristic_correlation,\n",
    "    \"TotalDuration\": metrics[\"durations\"][\"EliminateVars\"],\n",
    "    \"VarSelection\": stages_summary[\"VarSelection\"].loc[\"sum\"],\n",
    "    \"Elimination\": stages_summary[\"Elimination\"].loc[\"sum\"],\n",
    "    \"AbsorbedRemoval\": stages_summary[\"AbsorbedRemovalDuration\"].loc[\"sum\"],\n",
    "}\n",
    "summary = pd.DataFrame(summary_data)\n",
    "summary[[\"TotalDuration\", \"VarSelection\", \"Elimination\", \"AbsorbedRemoval\"]] //= duration_ratio"
   ]
  },
  {
   "cell_type": "code",
   "execution_count": null,
   "id": "20fb9c2a-8799-4966-a980-609c89ce0125",
   "metadata": {},
   "outputs": [],
   "source": [
    "summary"
   ]
  }
 ],
 "metadata": {
  "kernelspec": {
   "display_name": "Python 3 (ipykernel)",
   "language": "python",
   "name": "python3"
  },
  "language_info": {
   "codemirror_mode": {
    "name": "ipython",
    "version": 3
   },
   "file_extension": ".py",
   "mimetype": "text/x-python",
   "name": "python",
   "nbconvert_exporter": "python",
   "pygments_lexer": "ipython3",
   "version": "3.9.19"
  }
 },
 "nbformat": 4,
 "nbformat_minor": 5
}
